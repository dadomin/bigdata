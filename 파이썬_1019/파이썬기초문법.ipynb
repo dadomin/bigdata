{
 "cells": [
  {
   "cell_type": "code",
   "execution_count": 3,
   "metadata": {},
   "outputs": [
    {
     "name": "stdout",
     "output_type": "stream",
     "text": [
      "10\n"
     ]
    }
   ],
   "source": [
    "a = 10 # 변수 타입 지정 x, 동적 타이핑\n",
    "print(a) # 변수가 가리키는 객체의 값을 출력"
   ]
  },
  {
   "cell_type": "code",
   "execution_count": 4,
   "metadata": {},
   "outputs": [
    {
     "data": {
      "text/plain": [
       "140712675943088"
      ]
     },
     "execution_count": 4,
     "metadata": {},
     "output_type": "execute_result"
    }
   ],
   "source": [
    "id(a) # 변수가 가리키는 메모리의 주소 반환"
   ]
  },
  {
   "cell_type": "code",
   "execution_count": 5,
   "metadata": {},
   "outputs": [
    {
     "data": {
      "text/plain": [
       "int"
      ]
     },
     "execution_count": 5,
     "metadata": {},
     "output_type": "execute_result"
    }
   ],
   "source": [
    "type(a) # 데이터의 형식을 알아보는 방법"
   ]
  },
  {
   "cell_type": "code",
   "execution_count": 7,
   "metadata": {},
   "outputs": [
    {
     "name": "stdout",
     "output_type": "stream",
     "text": [
      "['False', 'None', 'True', 'and', 'as', 'assert', 'async', 'await', 'break', 'class', 'continue', 'def', 'del', 'elif', 'else', 'except', 'finally', 'for', 'from', 'global', 'if', 'import', 'in', 'is', 'lambda', 'nonlocal', 'not', 'or', 'pass', 'raise', 'return', 'try', 'while', 'with', 'yield']\n"
     ]
    }
   ],
   "source": [
    "import keyword\n",
    "print(keyword.kwlist) # 예약어는 변수명으로 사용불가, 예약어 리스트 보기"
   ]
  },
  {
   "cell_type": "code",
   "execution_count": 9,
   "metadata": {},
   "outputs": [],
   "source": [
    "# 변수에 값 저장\n",
    "# 변수 = 값\n",
    "a = 10"
   ]
  },
  {
   "cell_type": "code",
   "execution_count": 11,
   "metadata": {},
   "outputs": [],
   "source": [
    "# 여러개의 변수에 여러개의 값을 저장 가능\n",
    "# 변수1, 변수2, 변수3 .,... = 값1, 값2, 값3 .....\n",
    "a, b, x, y = 1, 2, 3, 4"
   ]
  },
  {
   "cell_type": "code",
   "execution_count": 16,
   "metadata": {},
   "outputs": [
    {
     "data": {
      "text/plain": [
       "4"
      ]
     },
     "execution_count": 16,
     "metadata": {},
     "output_type": "execute_result"
    }
   ],
   "source": [
    "a\n",
    "b\n",
    "x\n",
    "y"
   ]
  },
  {
   "cell_type": "code",
   "execution_count": 17,
   "metadata": {},
   "outputs": [],
   "source": [
    "# 여러개의 변수에 한 개의 값 저장\n",
    "# 변수1 = 변수2 = 변수3 = 값\n",
    "a = b = c = 10 # 동적할당하기 때문에 가능"
   ]
  },
  {
   "cell_type": "code",
   "execution_count": 20,
   "metadata": {},
   "outputs": [
    {
     "name": "stdout",
     "output_type": "stream",
     "text": [
      "20 10\n"
     ]
    }
   ],
   "source": [
    "# 두 변수 값의 교환\n",
    "a = 10\n",
    "b = 20\n",
    "# 위 두 변수의 값을 교환 하세요\n",
    "a,b = b,a # 이것또한, 동적할당하기 때문 \n",
    "print(a,b)"
   ]
  },
  {
   "cell_type": "code",
   "execution_count": 24,
   "metadata": {},
   "outputs": [
    {
     "ename": "NameError",
     "evalue": "name 'a' is not defined",
     "output_type": "error",
     "traceback": [
      "\u001b[1;31m---------------------------------------------------------------------------\u001b[0m",
      "\u001b[1;31mNameError\u001b[0m                                 Traceback (most recent call last)",
      "\u001b[1;32m<ipython-input-24-6fe213e7cf66>\u001b[0m in \u001b[0;36m<module>\u001b[1;34m\u001b[0m\n\u001b[0;32m      2\u001b[0m \u001b[1;31m# del 명령어 사용\u001b[0m\u001b[1;33m\u001b[0m\u001b[1;33m\u001b[0m\u001b[1;33m\u001b[0m\u001b[0m\n\u001b[0;32m      3\u001b[0m \u001b[1;31m# del 변수\u001b[0m\u001b[1;33m\u001b[0m\u001b[1;33m\u001b[0m\u001b[1;33m\u001b[0m\u001b[0m\n\u001b[1;32m----> 4\u001b[1;33m \u001b[1;32mdel\u001b[0m \u001b[0ma\u001b[0m \u001b[1;31m# a 변수 삭제\u001b[0m\u001b[1;33m\u001b[0m\u001b[1;33m\u001b[0m\u001b[0m\n\u001b[0m\u001b[0;32m      5\u001b[0m \u001b[0mprint\u001b[0m\u001b[1;33m(\u001b[0m\u001b[0ma\u001b[0m\u001b[1;33m)\u001b[0m\u001b[1;33m\u001b[0m\u001b[1;33m\u001b[0m\u001b[0m\n",
      "\u001b[1;31mNameError\u001b[0m: name 'a' is not defined"
     ]
    }
   ],
   "source": [
    "# 변수 삭제\n",
    "# del 명령어 사용\n",
    "# del 변수\n",
    "del a # a 변수 삭제\n",
    "print(a)"
   ]
  },
  {
   "cell_type": "code",
   "execution_count": 26,
   "metadata": {},
   "outputs": [
    {
     "name": "stdout",
     "output_type": "stream",
     "text": [
      "홍길동 23\n"
     ]
    }
   ],
   "source": [
    "# 문자열 사용 \n",
    "# 문자열에는 큰 따옴표를 사용\n",
    "name = \"홍길동\"\n",
    "age = 23\n",
    "print(name, age)"
   ]
  },
  {
   "cell_type": "code",
   "execution_count": 31,
   "metadata": {},
   "outputs": [
    {
     "name": "stdout",
     "output_type": "stream",
     "text": [
      "서울시 강남구\n",
      "홍길동은 서울시 강남구에 삽니다.\n"
     ]
    }
   ],
   "source": [
    "# 작은 따옴표도 사용가능\n",
    "address = '서울시 강남구'\n",
    "print(address)\n",
    "\n",
    "# 문자열에 + 연산자를 사용하면 문자열 결합 연산자로 취급\n",
    "print(name + \"은 \" + address+ \"에 삽니다.\")"
   ]
  },
  {
   "cell_type": "code",
   "execution_count": 35,
   "metadata": {},
   "outputs": [
    {
     "name": "stdout",
     "output_type": "stream",
     "text": [
      "홍길동의 나이는 23입니다.\n"
     ]
    }
   ],
   "source": [
    "print(name + \"의 나이는 \" + str(age) + \"입니다.\") # 숫자를 문자열 타입으로 변환 : 형변환 -> str() 함수 사용"
   ]
  },
  {
   "cell_type": "code",
   "execution_count": 50,
   "metadata": {},
   "outputs": [
    {
     "name": "stdout",
     "output_type": "stream",
     "text": [
      "이름 : 홍길동\n",
      "학번 : 2016001\n",
      "학년 : 4\n",
      "성적 : A\n",
      "평균 : 93.5\n",
      "이름 : 홍길동\n",
      "학번 : 2016001\n",
      "학년 : 4\n",
      "성적 : A\n",
      "평균 : 93.500000\n"
     ]
    }
   ],
   "source": [
    "name, no, year, grade, average = \"홍길동\", 2016001, 4, \"A\", 93.5\n",
    "print(\"이름 :\", name)\n",
    "print(\"학번 :\", no)\n",
    "print(\"학년 :\", year)\n",
    "print(\"성적 :\", grade)\n",
    "print(\"평균 :\", average)\n",
    "\n",
    "#포맷코드 사용\n",
    "print(\"이름 : %s\" % name) # 문자열 포맷코드\n",
    "print(\"학번 : %s\" % no)\n",
    "print(\"학년 : %d\" % year) # 정수형 포맷코드\n",
    "print(\"성적 : %c\" % grade) # 한 문자 포맷코드\n",
    "print(\"평균 : %f\" % average) # 실수형 포맷코드 (. 소수 이하 자리 f)"
   ]
  }
 ],
 "metadata": {
  "kernelspec": {
   "display_name": "Python 3",
   "language": "python",
   "name": "python3"
  },
  "language_info": {
   "codemirror_mode": {
    "name": "ipython",
    "version": 3
   },
   "file_extension": ".py",
   "mimetype": "text/x-python",
   "name": "python",
   "nbconvert_exporter": "python",
   "pygments_lexer": "ipython3",
   "version": "3.7.4"
  }
 },
 "nbformat": 4,
 "nbformat_minor": 2
}
