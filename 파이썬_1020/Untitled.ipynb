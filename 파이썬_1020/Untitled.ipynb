{
 "cells": [
  {
   "cell_type": "code",
   "execution_count": 1,
   "metadata": {},
   "outputs": [
    {
     "name": "stdout",
     "output_type": "stream",
     "text": [
      "비밀번호 일치\n"
     ]
    }
   ],
   "source": [
    "password = 1234\n",
    "\n",
    "if password == 1234 :\n",
    "    print('비밀번호 일치')\n",
    "else :\n",
    "    print('비밀번호 불일치')"
   ]
  },
  {
   "cell_type": "code",
   "execution_count": 2,
   "metadata": {},
   "outputs": [
    {
     "name": "stdout",
     "output_type": "stream",
     "text": [
      "비밀번호 일치\n"
     ]
    }
   ],
   "source": [
    "password = 1234\n",
    "\n",
    "if password == 1234 :\n",
    "    print('비밀번호 일치')\n",
    "else :\n",
    "    pass # 아무것도 수행하지 않을 경우"
   ]
  },
  {
   "cell_type": "code",
   "execution_count": 6,
   "metadata": {},
   "outputs": [
    {
     "name": "stdout",
     "output_type": "stream",
     "text": [
      "아이디를 입력하세요flower\n",
      "비밀번호를 입력하세요1234\n",
      "로그인 성공\n"
     ]
    }
   ],
   "source": [
    "# 로그인 프로그램\n",
    "ID = 'flower'\n",
    "password = '1234'\n",
    "\n",
    "# 사용자로부터 키보드를 통해 값을 입력 받기\n",
    "input_id = input(\"아이디를 입력하세요\") ## 입력되는 data는 문자열로 처리 \n",
    "input_pass = input(\"비밀번호를 입력하세요\")\n",
    "\n",
    "# 두 값이 모두 일치하면 로그인 성공\n",
    "if (ID == input_id) and (password == input_pass) :\n",
    "    print(\"로그인 성공\")\n",
    "else : \n",
    "    print(\"로그인 실패\")"
   ]
  },
  {
   "cell_type": "code",
   "execution_count": 8,
   "metadata": {},
   "outputs": [
    {
     "name": "stdout",
     "output_type": "stream",
     "text": [
      "첫번째 수 입력1\n",
      "두번째 수 입력2\n",
      "3\n"
     ]
    }
   ],
   "source": [
    "# 사용자로부터 두 수를 입력받아 더한 결과를 출력하는 코드 작성\n",
    "su1 = input(\"첫번째 수 입력\")\n",
    "su2 = input('두번째 수 입력')\n",
    "\n",
    "result = int(su1) + int(su2)\n",
    "print(result)"
   ]
  },
  {
   "cell_type": "code",
   "execution_count": 11,
   "metadata": {},
   "outputs": [
    {
     "name": "stdout",
     "output_type": "stream",
     "text": [
      "정수입력 :-3\n",
      "음수\n"
     ]
    }
   ],
   "source": [
    "# if~ elif~ else\n",
    "num = int(input('정수입력 :'))\n",
    "\n",
    "if num < 0 :\n",
    "    print('음수')\n",
    "elif num > 0 :\n",
    "    print('양수')\n",
    "else :\n",
    "    print('0')"
   ]
  },
  {
   "cell_type": "code",
   "execution_count": 15,
   "metadata": {},
   "outputs": [
    {
     "name": "stdout",
     "output_type": "stream",
     "text": [
      "정수1 입력 : 9\n",
      "정수2 입력 : 5\n",
      "정수3 입력 : 8\n",
      "제일 큰 수 : 9\n"
     ]
    }
   ],
   "source": [
    "# 연습문제\n",
    "num1 = int(input('정수1 입력 : '))\n",
    "num2 = int(input('정수2 입력 : '))\n",
    "num3 = int(input('정수3 입력 : '))\n",
    "\n",
    "max_num = num1\n",
    "\n",
    "if num2 > max_num :\n",
    "    max_num = num2\n",
    "elif num3 > max_num :\n",
    "    max_num = num3\n",
    "else :\n",
    "    pass\n",
    "\n",
    "# 선생님 모법답안 코드\n",
    "if num1 > num2 and num1 > num3 :\n",
    "    max_num = num1\n",
    "elif num2 > max_num :\n",
    "    max_num = num2\n",
    "else :\n",
    "    max_num = num3\n",
    "\n",
    "print('제일 큰 수 : %d' % max_num)"
   ]
  },
  {
   "cell_type": "markdown",
   "metadata": {},
   "source": [
    "# 반복문"
   ]
  },
  {
   "cell_type": "code",
   "execution_count": 22,
   "metadata": {},
   "outputs": [
    {
     "name": "stdout",
     "output_type": "stream",
     "text": [
      "홍길동\n",
      "이몽룡\n",
      "변학도\n",
      "0\n",
      "1\n",
      "2\n",
      "3\n",
      "4\n",
      "5\n",
      "6\n",
      "7\n",
      "8\n",
      "9\n"
     ]
    }
   ],
   "source": [
    "# for 변수 in 리스트 또는 범위\n",
    "for name in ['홍길동', '이몽룡', '성춘향', '변학도'] :\n",
    "    print(name)\n",
    "    \n",
    "for x in range(0, 10) :\n",
    "    print(x)"
   ]
  },
  {
   "cell_type": "code",
   "execution_count": 27,
   "metadata": {},
   "outputs": [
    {
     "name": "stdout",
     "output_type": "stream",
     "text": [
      "홍길동 이몽룡 성춘향 변학도 \n",
      "0\n",
      "1\n",
      "2\n",
      "3\n",
      "4\n",
      "5\n",
      "6\n",
      "7\n",
      "8\n",
      "9\n"
     ]
    }
   ],
   "source": [
    "# 출력 시 print문은 줄바꿈을 표현한다.\n",
    "# 줄바꿈을 없이 출력하려면 -> end = ''\n",
    "for name in ['홍길동', '이몽룡', '성춘향', '변학도'] :\n",
    "    print(name, end = ' ')\n",
    "    \n",
    "print('') # 커서를 내리는 역할을 하게 됨\n",
    "\n",
    "for x in range(0, 10) :\n",
    "    print(x)"
   ]
  },
  {
   "cell_type": "code",
   "execution_count": 30,
   "metadata": {
    "scrolled": true
   },
   "outputs": [
    {
     "name": "stdout",
     "output_type": "stream",
     "text": [
      "0\n",
      "2\n",
      "4\n",
      "6\n",
      "8\n"
     ]
    }
   ],
   "source": [
    "for x in range(0, 10, 2) :\n",
    "    print(x)"
   ]
  },
  {
   "cell_type": "code",
   "execution_count": 31,
   "metadata": {
    "scrolled": true
   },
   "outputs": [
    {
     "name": "stdout",
     "output_type": "stream",
     "text": [
      "11 12 13 14 15 16 17 18 19 20 21 "
     ]
    }
   ],
   "source": [
    "# 숫자 11부터 21까지를 한 줄에 출력하시오.\n",
    "# 단, 한 칸씩 띄어서 출력할 것\n",
    "for x in range(11, 22) :\n",
    "    print(x, end=' ')"
   ]
  },
  {
   "cell_type": "code",
   "execution_count": 37,
   "metadata": {},
   "outputs": [
    {
     "name": "stdout",
     "output_type": "stream",
     "text": [
      "55\n"
     ]
    }
   ],
   "source": [
    "# 1부터 10까지 합을 출력\n",
    "sumx = 0 ## 누적 변수 : 반복문에서 쓰기 전에 선언되어야 한다.\n",
    "\n",
    "for num in range(1,11) :\n",
    "    sumx += num\n",
    "\n",
    "print(sumx)"
   ]
  },
  {
   "cell_type": "markdown",
   "metadata": {},
   "source": [
    "# 문자열"
   ]
  },
  {
   "cell_type": "code",
   "execution_count": 38,
   "metadata": {},
   "outputs": [
    {
     "name": "stdout",
     "output_type": "stream",
     "text": [
      "파이썬파이썬파이썬\n"
     ]
    }
   ],
   "source": [
    "# 문자열 곱하기\n",
    "# 곱한 수 만큼 문자열이 반복되어 생성\n",
    "\n",
    "string = '파이썬'\n",
    "\n",
    "result = string * 3\n",
    "\n",
    "print(result)"
   ]
  },
  {
   "cell_type": "code",
   "execution_count": 40,
   "metadata": {},
   "outputs": [
    {
     "name": "stdout",
     "output_type": "stream",
     "text": [
      "Data crawling is fun\n",
      "Data\n",
      "crawling is\n",
      "fun\n",
      "n\n",
      "n\n",
      "Data crawling is fu\n",
      " fun\n"
     ]
    }
   ],
   "source": [
    "# 문자열 슬라이싱 ( 문자열의 일부분을 추출하는 기능 )\n",
    "\n",
    "crawling = 'Data crawling is fun'\n",
    "parsing = 'Data parsing is also fun'\n",
    "\n",
    "print(crawling)\n",
    "print(crawling[0:4]) # 0 ~ 3\n",
    "print(crawling[5:16]) # 5 ~ 15\n",
    "print(crawling[17:]) # 17 ~ 끝\n",
    "print(crawling[19]) # 19 (20번째 문자) - 인덱스틑 0부터 시작\n",
    "print(crawling[-1:]) # 마지막에서 끝까지 (마지막 문자)\n",
    "print(crawling[:-1]) # 처음부터 마지막 -1 까지\n",
    "print(crawling[16:16+4]) # 16 ~ 19"
   ]
  },
  {
   "cell_type": "code",
   "execution_count": 41,
   "metadata": {},
   "outputs": [
    {
     "data": {
      "text/plain": [
       "'p'"
      ]
     },
     "execution_count": 41,
     "metadata": {},
     "output_type": "execute_result"
    }
   ],
   "source": [
    "parsing[5] = '가' # 문자열 인덱싱에는 대입연산자를 사용할 수 없다."
   ]
  },
  {
   "cell_type": "code",
   "execution_count": 43,
   "metadata": {},
   "outputs": [
    {
     "name": "stdout",
     "output_type": "stream",
     "text": [
      "True\n",
      "False\n",
      "있음\n"
     ]
    }
   ],
   "source": [
    "# 문자열 연산자 in / not in 연산\n",
    "# 특정 문자열이 포함되어 있는지 여부 확인\n",
    "# 결과 T / F\n",
    "\n",
    "string = 'python programming'\n",
    "\n",
    "# 대소문자는 구별해서 찾는다.\n",
    "print('python' in string)\n",
    "print('Python' in string)\n",
    "\n",
    "if 'python' in string :\n",
    "    print('있음')\n",
    "else :\n",
    "    print('없음')"
   ]
  },
  {
   "cell_type": "code",
   "execution_count": 44,
   "metadata": {},
   "outputs": [
    {
     "name": "stdout",
     "output_type": "stream",
     "text": [
      "11\n",
      "2\n"
     ]
    }
   ],
   "source": [
    "# len() : 문자열 전체 길이 반환 -> 단독함수 len(변수명 또는 문자열)\n",
    "# count() : 특정 문자의 빈도수 반환 -> 문자열 또는 변수.count(개수 할 문자)\n",
    "\n",
    "string = 'programming'\n",
    "print(len(string))\n",
    "print(string.count(\"m\"))"
   ]
  },
  {
   "cell_type": "code",
   "execution_count": 50,
   "metadata": {},
   "outputs": [
    {
     "name": "stdout",
     "output_type": "stream",
     "text": [
      "['python', 'programming']\n",
      "['홍길동,이몽룡,성춘향,변학도']\n",
      "['홍길동', '이몽룡', '성춘향', '변학도']\n",
      "['red', 'blue', 'yellow', 'green']\n"
     ]
    }
   ],
   "source": [
    "# split() : 구분자를 기준으로 문자열을 나누고 리스트 형태로 반환\n",
    "# 구분자 : 기본 공백, 옵션으로 구분자를 지정할 수 있음 (- / . ,)\n",
    "\n",
    "string = 'python programming'\n",
    "split_str = string.split()\n",
    "print(split_str) # 결과는 리스트 형태로 반환\n",
    "\n",
    "names = '홍길동,이몽룡,성춘향,변학도'\n",
    "names_split = names.split()\n",
    "print(names_split)\n",
    "names_split = names.split(',')\n",
    "print(names_split)\n",
    "\n",
    "colors = 'red:blue:yellow:green'\n",
    "colors_split = colors.split(\":\")\n",
    "print(colors_split)"
   ]
  },
  {
   "cell_type": "code",
   "execution_count": 52,
   "metadata": {},
   "outputs": [
    {
     "name": "stdout",
     "output_type": "stream",
     "text": [
      "Java programming\n",
      "Python programming\n"
     ]
    }
   ],
   "source": [
    "# replace() : 전체 문자열에서 특정 문자열을 찾아 다른 문자열로 변경\n",
    "# 문자열.replace(찾는 문자열, 변경할 문자열)\n",
    "\n",
    "course = 'Java programming'\n",
    "\n",
    "# Java를 Python으로 변경\n",
    "course_replace = course.replace('Java', 'Python')\n",
    "print(course_replace)\n",
    "# 기존 course 변수의 값은 변경되는가 ? (X)\n",
    "print(course)"
   ]
  },
  {
   "cell_type": "code",
   "execution_count": 57,
   "metadata": {},
   "outputs": [
    {
     "name": "stdout",
     "output_type": "stream",
     "text": [
      "a-b-c-d\n",
      "홍길동-이몽룡-성춘향\n"
     ]
    }
   ],
   "source": [
    "# join() : 각 문자 사이에 특정 문자(열)을 삽입\n",
    "\n",
    "a = 'aa'\n",
    "a.join('bbb')\n",
    "\n",
    "# 문자열 사이에 구분자 삽입 시 사용\n",
    "#리스트에 있는 모든 문자를 하나로 구성할 때 사용(리스트 함수)\n",
    "\n",
    "a = '-'\n",
    "print(a.join('abcd'))\n",
    "\n",
    "#리스트에 join 함수 사용\n",
    "sep = '-'\n",
    "names = ['홍길동', '이몽룡', '성춘향']\n",
    "print(sep.join(names))"
   ]
  },
  {
   "cell_type": "code",
   "execution_count": 63,
   "metadata": {},
   "outputs": [
    {
     "data": {
      "text/plain": [
       "'This Is My Dog'"
      ]
     },
     "execution_count": 63,
     "metadata": {},
     "output_type": "execute_result"
    }
   ],
   "source": [
    "# 대소문자 전환 함수\n",
    "# upper() : 전부 대문자로\n",
    "# lower() : 전부 소문자로\n",
    "# capitalize() : 문자의 첫 번째 문자를 대문자로\n",
    "# title() : 각 단어의 첫 글자를 대문자로 변경\n",
    "\n",
    "string ='this is MY DOG'\n",
    "string.upper()\n",
    "string.lower()\n",
    "string.capitalize()\n",
    "string.title()"
   ]
  },
  {
   "cell_type": "code",
   "execution_count": null,
   "metadata": {},
   "outputs": [],
   "source": [
    "# isalpha() : 문자 여부 결과 반환(T/F)\n",
    "# isdigit() : 숫자 여부 결과 반환 \n",
    "# isspace() : 공백 여부 결과 반환 \n",
    "# isalnum() : 문자나 숫자 여부 결과 반환"
   ]
  },
  {
   "cell_type": "code",
   "execution_count": 68,
   "metadata": {},
   "outputs": [
    {
     "name": "stdout",
     "output_type": "stream",
     "text": [
      "문장을 입력하세요 : ㅁㄴㅇ리0293ㅑㄴㅇㄹ --\n",
      "문자 : 8개\n",
      "숫자 : 4개\n",
      "공백 : 1개\n",
      "나머지 : 2개\n"
     ]
    }
   ],
   "source": [
    "# 사용자로부터 문장을 입력 받는다.\n",
    "string = input('문장을 입력하세요 : ')\n",
    "\n",
    "alphas = digits = spaces = others = 0\n",
    "\n",
    "for c in string : # string 변수에서 한 글자씩 c에 대입\n",
    "    if c.isalpha() :\n",
    "        alphas+=1\n",
    "    elif c.isdigit() :\n",
    "        digits+=1\n",
    "    elif c.isspace() :\n",
    "        spaces+=1\n",
    "    else :\n",
    "        others+=1\n",
    "        \n",
    "print('문자 : %d개' % alphas) # 포맷문자 이용 %d 는 정수를 의미\n",
    "print('숫자 : %d개' % digits)\n",
    "print('공백 : %d개' % spaces)\n",
    "print('나머지 : %d개' % others)"
   ]
  },
  {
   "cell_type": "markdown",
   "metadata": {},
   "source": [
    "# 리스트"
   ]
  },
  {
   "cell_type": "code",
   "execution_count": 70,
   "metadata": {},
   "outputs": [
    {
     "data": {
      "text/plain": [
       "[100, 200, 300, [10, 20, 30]]"
      ]
     },
     "execution_count": 70,
     "metadata": {},
     "output_type": "execute_result"
    }
   ],
   "source": [
    "# 리스트 생성\n",
    "numbers = [100,200,300,[10,20,30]]\n",
    "numbers[2]\n",
    "numbers[3]\n",
    "numbers[0:]"
   ]
  },
  {
   "cell_type": "code",
   "execution_count": 71,
   "metadata": {},
   "outputs": [
    {
     "name": "stdout",
     "output_type": "stream",
     "text": [
      "1 2 3\n"
     ]
    }
   ],
   "source": [
    "# 리스트의 값을 각 변수에 저장하는 코드\n",
    "nums = [1,2,3]\n",
    "a,b,c = nums # 리스트 모든 원소를 각 변수에 대입\n",
    "print(a,b,c)"
   ]
  },
  {
   "cell_type": "code",
   "execution_count": 77,
   "metadata": {},
   "outputs": [
    {
     "data": {
      "text/plain": [
       "10"
      ]
     },
     "execution_count": 77,
     "metadata": {},
     "output_type": "execute_result"
    }
   ],
   "source": [
    "# 인덱싱\n",
    "# a[0] : 첫번째 요소\n",
    "# a[-1] : 마지막 요소\n",
    "# a[-2] : 뒤에서 두번째 요소\n",
    "\n",
    "b = [1,2,3,[10,20]]\n",
    "b[-1][0] # 반환 되는 값\n",
    "\n",
    "a = [1,2,3,4,5]\n",
    "c = [1,2,3,[10,20],4,5]\n",
    "\n",
    "all_list = [a,b,c]\n",
    "\n",
    "all_list[2][3][0]"
   ]
  }
 ],
 "metadata": {
  "kernelspec": {
   "display_name": "Python 3",
   "language": "python",
   "name": "python3"
  },
  "language_info": {
   "codemirror_mode": {
    "name": "ipython",
    "version": 3
   },
   "file_extension": ".py",
   "mimetype": "text/x-python",
   "name": "python",
   "nbconvert_exporter": "python",
   "pygments_lexer": "ipython3",
   "version": "3.7.4"
  }
 },
 "nbformat": 4,
 "nbformat_minor": 2
}
