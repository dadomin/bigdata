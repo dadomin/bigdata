{
 "cells": [
  {
   "cell_type": "code",
   "execution_count": 1,
   "metadata": {},
   "outputs": [
    {
     "name": "stdout",
     "output_type": "stream",
     "text": [
      "비밀번호 일치\n"
     ]
    }
   ],
   "source": [
    "password = 1234\n",
    "\n",
    "if password == 1234 :\n",
    "    print('비밀번호 일치')\n",
    "else :\n",
    "    print('비밀번호 불일치')"
   ]
  },
  {
   "cell_type": "code",
   "execution_count": 2,
   "metadata": {},
   "outputs": [
    {
     "name": "stdout",
     "output_type": "stream",
     "text": [
      "비밀번호 일치\n"
     ]
    }
   ],
   "source": [
    "password = 1234\n",
    "\n",
    "if password == 1234 :\n",
    "    print('비밀번호 일치')\n",
    "else :\n",
    "    pass # 아무것도 수행하지 않을 경우"
   ]
  },
  {
   "cell_type": "code",
   "execution_count": 6,
   "metadata": {},
   "outputs": [
    {
     "name": "stdout",
     "output_type": "stream",
     "text": [
      "아이디를 입력하세요flower\n",
      "비밀번호를 입력하세요1234\n",
      "로그인 성공\n"
     ]
    }
   ],
   "source": [
    "# 로그인 프로그램\n",
    "ID = 'flower'\n",
    "password = '1234'\n",
    "\n",
    "# 사용자로부터 키보드를 통해 값을 입력 받기\n",
    "input_id = input(\"아이디를 입력하세요\") ## 입력되는 data는 문자열로 처리 \n",
    "input_pass = input(\"비밀번호를 입력하세요\")\n",
    "\n",
    "# 두 값이 모두 일치하면 로그인 성공\n",
    "if (ID == input_id) and (password == input_pass) :\n",
    "    print(\"로그인 성공\")\n",
    "else : \n",
    "    print(\"로그인 실패\")"
   ]
  },
  {
   "cell_type": "code",
   "execution_count": 8,
   "metadata": {},
   "outputs": [
    {
     "name": "stdout",
     "output_type": "stream",
     "text": [
      "첫번째 수 입력1\n",
      "두번째 수 입력2\n",
      "3\n"
     ]
    }
   ],
   "source": [
    "# 사용자로부터 두 수를 입력받아 더한 결과를 출력하는 코드 작성\n",
    "su1 = input(\"첫번째 수 입력\")\n",
    "su2 = input('두번째 수 입력')\n",
    "\n",
    "result = int(su1) + int(su2)\n",
    "print(result)"
   ]
  }
 ],
 "metadata": {
  "kernelspec": {
   "display_name": "Python 3",
   "language": "python",
   "name": "python3"
  },
  "language_info": {
   "codemirror_mode": {
    "name": "ipython",
    "version": 3
   },
   "file_extension": ".py",
   "mimetype": "text/x-python",
   "name": "python",
   "nbconvert_exporter": "python",
   "pygments_lexer": "ipython3",
   "version": "3.7.4"
  }
 },
 "nbformat": 4,
 "nbformat_minor": 2
}
